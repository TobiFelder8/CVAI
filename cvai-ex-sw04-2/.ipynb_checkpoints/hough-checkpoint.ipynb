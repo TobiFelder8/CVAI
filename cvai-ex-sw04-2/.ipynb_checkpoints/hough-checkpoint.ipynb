{
 "cells": [
  {
   "cell_type": "markdown",
   "metadata": {},
   "source": [
    "# Hough-Transformation"
   ]
  },
  {
   "cell_type": "code",
   "execution_count": null,
   "metadata": {},
   "outputs": [],
   "source": [
    "# Update pip\n",
    "!python -m pip install -U pip"
   ]
  },
  {
   "cell_type": "code",
   "execution_count": null,
   "metadata": {},
   "outputs": [],
   "source": [
    "# Install scikit-image\n",
    "!python -m pip install -U scikit-image"
   ]
  },
  {
   "cell_type": "code",
   "execution_count": null,
   "metadata": {},
   "outputs": [],
   "source": [
    "import numpy as np\n",
    "import cv2 as cv\n",
    "import matplotlib.pyplot as pl\n",
    "import ipywidgets as iw\n",
    "import skimage.transform as st"
   ]
  },
  {
   "cell_type": "markdown",
   "metadata": {},
   "source": [
    "## Bild einlesen"
   ]
  },
  {
   "cell_type": "code",
   "execution_count": null,
   "metadata": {},
   "outputs": [],
   "source": [
    "img_rgb = cv.imread ('Images/geraden.jpg')\n",
    "print (img_rgb.shape)\n",
    "img  = cv.cvtColor (img_rgb, cv.COLOR_BGR2GRAY)\n",
    "print (img.shape)\n",
    "pl.imshow (img, cmap = 'gray')"
   ]
  },
  {
   "cell_type": "markdown",
   "metadata": {},
   "source": [
    "## Kanten erkennen (Canny)"
   ]
  },
  {
   "cell_type": "code",
   "execution_count": null,
   "metadata": {},
   "outputs": [],
   "source": [
    "edg = cv.Canny (img, 150, 200, apertureSize = 3, L2gradient = True)\n",
    "pl.imshow (edg, cmap = 'gray')"
   ]
  },
  {
   "cell_type": "markdown",
   "metadata": {},
   "source": [
    "## Hough-Transformation für Geraden in OpenCV"
   ]
  },
  {
   "cell_type": "markdown",
   "metadata": {},
   "source": [
    "### Berechnung"
   ]
  },
  {
   "cell_type": "code",
   "execution_count": null,
   "metadata": {},
   "outputs": [],
   "source": [
    "lines = cv.HoughLines (edg, 1, np.pi / 180, 80)\n",
    "n = lines.shape [0]\n",
    "print (n)"
   ]
  },
  {
   "cell_type": "markdown",
   "metadata": {},
   "source": [
    "### Ergebnisse zeichnen"
   ]
  },
  {
   "cell_type": "code",
   "execution_count": null,
   "metadata": {},
   "outputs": [],
   "source": [
    "pl.imshow (img, cmap = 'gray')\n",
    "print(img.shape)\n",
    "dy, dx = img.shape\n",
    "pl.xlim ([0, dx])\n",
    "pl.ylim ([dy, 0])\n",
    "\n",
    "d = np.sqrt (dx ** 2 + dy ** 2)\n",
    "\n",
    "for i in np.arange (n):\n",
    "    for rho, phi in lines [i]:\n",
    "        c = np.cos (phi)\n",
    "        s = np.sin (phi)\n",
    "        p0 = rho * np.array ([[c], [s]])\n",
    "        u = np.array ([[-s], [c]])\n",
    "        p1 = p0 - d * u\n",
    "        p2 = p0 + d * u\n",
    "        pl.plot ((p1 [0], p2 [0]), (p1 [1], p2 [1]), 'r')"
   ]
  },
  {
   "cell_type": "markdown",
   "metadata": {},
   "source": [
    "## Hough-Transformation für Geraden in scikit-image"
   ]
  },
  {
   "cell_type": "code",
   "execution_count": null,
   "metadata": {},
   "outputs": [],
   "source": [
    "accu1, angles1, distances1 = st.hough_line (edg)\n",
    "print (np.max (accu1))\n",
    "pl.imshow (accu1, cmap = 'hot', aspect = 0.1)"
   ]
  },
  {
   "cell_type": "code",
   "execution_count": null,
   "metadata": {},
   "outputs": [],
   "source": [
    "accu2, angles2, distances2 = st.hough_line_peaks (accu1, angles1, distances1, threshold = 50)\n",
    "pl.imshow (img, cmap = 'gray')\n",
    "\n",
    "h, w = img.shape\n",
    "pl.xlim ([0, w])\n",
    "pl.ylim ([h, 0])\n",
    "\n",
    "for rho, phi in zip (distances2, angles2):\n",
    "    c = np.cos (phi)\n",
    "    s = np.sin (phi)\n",
    "    p0 = rho * np.array ([[c], [s]])\n",
    "    u = np.array ([[-s], [c]])\n",
    "    p1 = p0 - d * u\n",
    "    p2 = p0 + d * u\n",
    "    pl.plot ((p1 [0], p2 [0]), (p1 [1], p2 [1]), 'r')"
   ]
  },
  {
   "cell_type": "markdown",
   "metadata": {},
   "source": [
    "## Quellen"
   ]
  },
  {
   "cell_type": "markdown",
   "metadata": {},
   "source": [
    "https://docs.opencv.org/3.4/dd/d1a/group__imgproc__feature.html"
   ]
  },
  {
   "cell_type": "markdown",
   "metadata": {},
   "source": [
    "https://scikit-image.org/docs/dev/api/skimage.transform.html?highlight=hough#skimage.transform.hough_line"
   ]
  }
 ],
 "metadata": {
  "kernelspec": {
   "display_name": "Python 3 (ipykernel)",
   "language": "python",
   "name": "python3"
  },
  "language_info": {
   "codemirror_mode": {
    "name": "ipython",
    "version": 3
   },
   "file_extension": ".py",
   "mimetype": "text/x-python",
   "name": "python",
   "nbconvert_exporter": "python",
   "pygments_lexer": "ipython3",
   "version": "3.11.5"
  }
 },
 "nbformat": 4,
 "nbformat_minor": 4
}
